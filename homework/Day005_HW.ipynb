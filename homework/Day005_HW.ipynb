{
 "cells": [
  {
   "cell_type": "markdown",
   "metadata": {},
   "source": [
    "# API 資料串接 - 以 Dcard API 實作範例\n",
    "\n",
    "* 利用 urllib 套件的 urlretrieve 方法下載檔案\n",
    "* 了解 Python File I/O 讀檔、寫檔的用法\n",
    "* 能用運用資源管理器 With Statement 優化寫法"
   ]
  },
  {
   "cell_type": "markdown",
   "metadata": {},
   "source": [
    "## 作業目標\n",
    "\n",
    "* 請利用 API: https://www.dcard.tw/_api/forums/pet/posts?popular=true 回答下列問題：\n",
    "\n",
    "1. 這個 API 一次會回傳幾筆資料？每一筆資料包含哪些欄位？\n",
    "2. 取出每一筆資料的「標題」、「貼文時間」、「留言人數」、「按讚人數」\n",
    "3. 計算熱門/非熱門文章的「平均留言人數」與「平均按讚人數」"
   ]
  },
  {
   "cell_type": "code",
   "execution_count": 19,
   "metadata": {},
   "outputs": [
    {
     "name": "stdout",
     "output_type": "stream",
     "text": [
      "30 筆資料\n",
      "欄位: dict_keys(['id', 'title', 'excerpt', 'anonymousSchool', 'anonymousDepartment', 'pinned', 'forumId', 'replyId', 'createdAt', 'updatedAt', 'commentCount', 'likeCount', 'withNickname', 'tags', 'topics', 'meta', 'forumName', 'forumAlias', 'gender', 'school', 'department', 'replyTitle', 'mediaMeta', 'reactions', 'hidden', 'customStyle', 'isSuspiciousAccount', 'layout', 'withImages', 'withVideos', 'media', 'reportReasonText', 'postAvatar'])\n"
     ]
    }
   ],
   "source": [
    "# 1. 這個 API 一次會回傳幾筆資料？每一筆資料包含哪些欄位？\n",
    "import requests\n",
    "import json\n",
    "resp = requests.get('https://www.dcard.tw/_api/forums/pet/posts?popular=true')\n",
    "pop_data = json.loads(resp.text)\n",
    "print(len(pop_data), \"筆資料\")\n",
    "print(\"欄位:\", pop_data[0].keys())"
   ]
  },
  {
   "cell_type": "code",
   "execution_count": 20,
   "metadata": {},
   "outputs": [
    {
     "name": "stdout",
     "output_type": "stream",
     "text": [
      "標題: 不要被薩摩耶給騙了！, 貼文時間: 2019-11-29T00:25:38.826Z, 留言人數: 72, 按讚人數: 3079\n",
      "標題: 這些狗你認識嗎😍, 貼文時間: 2019-11-28T04:08:18.539Z, 留言人數: 50, 按讚人數: 1922\n",
      "標題: 充滿柴柴的人生❤️, 貼文時間: 2019-11-28T07:19:45.391Z, 留言人數: 19, 按讚人數: 636\n",
      "標題: #圖多 偷看🐹上廁所......, 貼文時間: 2019-11-28T13:44:17.224Z, 留言人數: 18, 按讚人數: 602\n",
      "標題: 請問這樣算不算虐貓, 貼文時間: 2019-11-28T09:04:40.825Z, 留言人數: 53, 按讚人數: 538\n",
      "標題: 兄弟貓🧐, 貼文時間: 2019-11-28T12:25:11.285Z, 留言人數: 11, 按讚人數: 197\n",
      "標題: #圖 柴柴 你能懂我的明白嗎？, 貼文時間: 2019-11-28T16:22:31.895Z, 留言人數: 7, 按讚人數: 142\n",
      "標題: 沒有責任感根本沒資格養寵物, 貼文時間: 2019-11-28T11:47:21.176Z, 留言人數: 20, 按讚人數: 141\n",
      "標題: 紙袋破壞王🏆, 貼文時間: 2019-11-28T09:43:33.709Z, 留言人數: 4, 按讚人數: 99\n",
      "標題: 高科大校板的遺失倉鼠, 貼文時間: 2019-11-28T05:23:12.530Z, 留言人數: 2, 按讚人數: 67\n",
      "標題: 我竟然被我家ㄉ狗鄙視！, 貼文時間: 2019-11-28T16:51:07.018Z, 留言人數: 4, 按讚人數: 56\n",
      "標題: 天冷怎麼辦ಥ_ಥ #柯基#圖多, 貼文時間: 2019-11-28T15:47:50.708Z, 留言人數: 0, 按讚人數: 51\n",
      "標題: 貓咪教妳皮笑肉不笑🙂, 貼文時間: 2019-11-28T11:55:17.571Z, 留言人數: 2, 按讚人數: 43\n",
      "標題: 🐰誰說兔子不能碰水！兔子❤️海灘, 貼文時間: 2019-11-29T07:34:46.328Z, 留言人數: 6, 按讚人數: 42\n",
      "標題: #募款 #貓 愛在街角，守護浪貓, 貼文時間: 2019-11-28T07:11:04.741Z, 留言人數: 1, 按讚人數: 30\n",
      "標題: 你也知道要坐那, 貼文時間: 2019-11-28T17:00:22.755Z, 留言人數: 3, 按讚人數: 28\n",
      "標題: 吸貓治百病, 貼文時間: 2019-11-29T06:53:05.300Z, 留言人數: 3, 按讚人數: 23\n",
      "標題: 就是你！！！我的菜！！！, 貼文時間: 2019-11-29T03:10:51.060Z, 留言人數: 0, 按讚人數: 23\n",
      "標題: 請問有人的柴犬走失嗎？(已找到失主，謝謝大家的幫忙🙏）, 貼文時間: 2019-11-28T14:57:09.825Z, 留言人數: 3, 按讚人數: 23\n",
      "標題: 我養了一隻樹懶🦥, 貼文時間: 2019-11-28T12:18:21.317Z, 留言人數: 6, 按讚人數: 23\n",
      "標題: #貓 #圖 我懷疑我家貓咪根本不覺得自己是貓咪, 貼文時間: 2019-11-29T15:01:23.745Z, 留言人數: 5, 按讚人數: 21\n",
      "標題: 有愛的假兄弟, 貼文時間: 2019-11-29T04:09:24.480Z, 留言人數: 0, 按讚人數: 20\n",
      "標題: 當我的貓和海豹都是一個囧臉, 貼文時間: 2019-11-28T05:35:09.787Z, 留言人數: 4, 按讚人數: 20\n",
      "標題: 我家柴犬一系列照片, 貼文時間: 2019-11-29T05:02:04.820Z, 留言人數: 3, 按讚人數: 18\n",
      "標題: 囤貓囤起來😻/圖多文長, 貼文時間: 2019-11-29T03:41:19.070Z, 留言人數: 2, 按讚人數: 13\n",
      "標題: 限動裡的小三線們, 貼文時間: 2019-11-29T04:00:40.448Z, 留言人數: 4, 按讚人數: 12\n",
      "標題: 問貓貓的帳號, 貼文時間: 2019-11-28T11:30:50.129Z, 留言人數: 1, 按讚人數: 9\n",
      "標題: 高以翔的療癒系狗狗theo, 貼文時間: 2019-11-29T13:52:33.150Z, 留言人數: 0, 按讚人數: 8\n",
      "標題: 自己的主子最可愛, 貼文時間: 2019-11-29T05:09:30.489Z, 留言人數: 1, 按讚人數: 8\n",
      "標題: 挑戰極限的塞食物(๑˙❥˙๑), 貼文時間: 2019-11-28T07:55:21.256Z, 留言人數: 8, 按讚人數: 8\n"
     ]
    }
   ],
   "source": [
    "# 2. 取出每一筆資料的「標題」、「貼文時間」、「留言人數」、「按讚人數」\n",
    "for data in pop_data:\n",
    "    print(f\"標題: {data['title']}, 貼文時間: {data['createdAt']}, 留言人數: {data['commentCount']}, 按讚人數: {data['likeCount']}\")"
   ]
  },
  {
   "cell_type": "code",
   "execution_count": 23,
   "metadata": {},
   "outputs": [
    {
     "name": "stdout",
     "output_type": "stream",
     "text": [
      "熱門文章 平均留言人數: 10.4\n",
      "熱門文章 平均按讚人數: 263.4\n",
      "--------------------\n",
      "非熱門文章 平均留言人數: 2.933333333333333\n",
      "非熱門文章 平均按讚人數: 3.533333333333333\n"
     ]
    }
   ],
   "source": [
    "# 3. 計算熱門/非熱門文章的「平均留言人數」與「平均按讚人數」\n",
    "from statistics import mean\n",
    "\n",
    "resp = requests.get('https://www.dcard.tw/_api/forums/pet/posts?popular=false')\n",
    "nonpop_data = resp.json()\n",
    "\n",
    "print(\"熱門文章 平均留言人數:\", mean([data['commentCount'] for data in pop_data]))\n",
    "print(\"熱門文章 平均按讚人數:\", mean([data['likeCount'] for data in pop_data]))\n",
    "print(\"--\"*10)\n",
    "print(\"非熱門文章 平均留言人數:\", mean([data['commentCount'] for data in nonpop_data]))\n",
    "print(\"非熱門文章 平均按讚人數:\", mean([data['likeCount'] for data in nonpop_data]))\n"
   ]
  }
 ],
 "metadata": {
  "kernelspec": {
   "display_name": "Python 3",
   "language": "python",
   "name": "python3"
  },
  "language_info": {
   "codemirror_mode": {
    "name": "ipython",
    "version": 3
   },
   "file_extension": ".py",
   "mimetype": "text/x-python",
   "name": "python",
   "nbconvert_exporter": "python",
   "pygments_lexer": "ipython3",
   "version": "3.7.4"
  }
 },
 "nbformat": 4,
 "nbformat_minor": 2
}
